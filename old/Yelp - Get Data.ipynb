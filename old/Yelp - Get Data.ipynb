{
 "cells": [
  {
   "cell_type": "code",
   "execution_count": null,
   "metadata": {},
   "outputs": [],
   "source": [
    "import pandas as pd\n",
    "import requests\n",
    "from bs4 import BeautifulSoup\n",
    "import re\n",
    "import numpy as np\n",
    "\n",
    "from sklearn.metrics import jaccard_similarity_score\n",
    "from scipy.stats import pearsonr"
   ]
  },
  {
   "cell_type": "code",
   "execution_count": null,
   "metadata": {},
   "outputs": [],
   "source": [
    "bookmark_url = 'https://www.yelp.com/user_details_bookmarks?userid='\n",
    "review_url = 'https://www.yelp.com/user_details_reviews_self?userid='\n",
    "friends_url = 'https://www.yelp.com/user_details_friends?userid='\n",
    "self_id = 'ShHBKjuJbQAVBLs7DgA95A'"
   ]
  },
  {
   "cell_type": "code",
   "execution_count": null,
   "metadata": {},
   "outputs": [],
   "source": [
    "def first_page_friends(user_id):\n",
    "    \"\"\"function to get the User IDs of the first page of friends\"\"\"\n",
    "\n",
    "    f_page = requests.get(friends_url + user_id)\n",
    "    f_soup = BeautifulSoup(f_page.content, 'html.parser')\n",
    "    f_source = f_soup.find_all('a', class_='user-display-name js-analytics-click')\n",
    "    \n",
    "    friend_list = []\n",
    "    for friend in range(0, len(f_source)):\n",
    "        friend_id = f_source[friend]['href'].split('=')[1]\n",
    "        friend_list.append(friend_id)\n",
    "    \n",
    "    return friend_list"
   ]
  },
  {
   "cell_type": "code",
   "execution_count": null,
   "metadata": {},
   "outputs": [],
   "source": [
    "def get_all_friends(user_id):\n",
    "    \"\"\"function to get the User IDs of all friends\"\"\"\n",
    "    \n",
    "    # get the max page number of bookmarks\n",
    "    friendpage = requests.get(friends_url+user_id)\n",
    "    fr_soup = BeautifulSoup(friendpage.content, 'html.parser')\n",
    "    pages = fr_soup.find_all('div', class_='page-of-pages arrange_unit arrange_unit--fill')\n",
    "    max_page = pages[0].get_text().split('of ')[1].split('\\n')[0]\n",
    "    friend_list = []   \n",
    "    #get friends\n",
    "    for page_num in range(0,48*int(max_page), 48):\n",
    "        f_page = requests.get(friends_url + user_id+ '&start=' + str(page_num))\n",
    "        f_soup = BeautifulSoup(f_page.content, 'html.parser')\n",
    "        f_source = f_soup.find_all('a', class_='user-display-name js-analytics-click')\n",
    "    \n",
    "        for friend in range(0, len(f_source)):\n",
    "            friend_id = f_source[friend]['href'].split('=')[1]\n",
    "            friend_list.append(friend_id)\n",
    "\n",
    "    return friend_list"
   ]
  },
  {
   "cell_type": "code",
   "execution_count": null,
   "metadata": {},
   "outputs": [],
   "source": [
    "def get_bookmarks(user_id):\n",
    "    \"\"\"get all bookmarks for user_id\"\"\"\n",
    "    \n",
    "    # get the max page number of bookmarks\n",
    "    bookmarks = requests.get(bookmark_url+user_id)\n",
    "    bm_soup = BeautifulSoup(bookmarks.content, 'html.parser')\n",
    "    pages = bm_soup.find_all('div', class_='page-of-pages arrange_unit arrange_unit--fill')\n",
    "    max_page = pages[0].get_text().split('of ')[1].split('\\n')[0]\n",
    "    \n",
    "    user_bookmarks = []\n",
    "    # loop through all the pages to get bookmarks\n",
    "    for page_num in range(0, 50*int(max_page), 50):\n",
    "        bookmarks = requests.get(bookmark_url + user_id + '&start=' + str(page_num))\n",
    "        bm_soup = BeautifulSoup(bookmarks.content, 'html.parser')\n",
    "        bm_name = bm_soup.find_all('a', class_='biz-name js-analytics-click')\n",
    "        \n",
    "        for mark in range(0, len(bm_name)):\n",
    "            user_bookmarks.append(bm_name[mark]['href'])\n",
    "       \n",
    "    return list(set(user_bookmarks))"
   ]
  },
  {
   "cell_type": "code",
   "execution_count": null,
   "metadata": {},
   "outputs": [],
   "source": [
    "def get_reviews(user_id):\n",
    "    \"\"\"get all reviews for user_id\"\"\"\n",
    "    \n",
    "    # get the max page number of bookmarks\n",
    "    reviews = requests.get(review_url+user_id)\n",
    "    re_soup = BeautifulSoup(reviews.content, 'html.parser')\n",
    "    pages = re_soup.find_all('div', class_='page-of-pages arrange_unit arrange_unit--fill')\n",
    "    max_page = pages[0].get_text().split('of ')[1].split('\\n')[0]\n",
    "    \n",
    "    user_reviews = {}\n",
    "    # loop through all the pages to get bookmarks\n",
    "    for page_num in range(0, 10*int(max_page), 10):\n",
    "        rev = requests.get(review_url + user_id + '&rec_pagestart=' + str(page_num))\n",
    "        rev_soup = BeautifulSoup(rev.content, 'html.parser')\n",
    "        rating = rev_soup.find_all('div', class_=re.compile('i-stars i-stars--regular-*'))\n",
    "        biz_name = rev_soup.find_all('a', class_='biz-name js-analytics-click')\n",
    "        \n",
    "        for mark in range(0, len(biz_name)):\n",
    "            user_reviews[biz_name[mark]['href']] = int(rating[mark]['title'][0])\n",
    "       \n",
    "    return user_reviews"
   ]
  },
  {
   "cell_type": "markdown",
   "metadata": {},
   "source": [
    "# Friends"
   ]
  },
  {
   "cell_type": "code",
   "execution_count": null,
   "metadata": {},
   "outputs": [],
   "source": [
    "source_friends = first_page_friends(self_id)\n",
    "len(source_friends)"
   ]
  },
  {
   "cell_type": "code",
   "execution_count": null,
   "metadata": {},
   "outputs": [],
   "source": [
    "%store source_friends"
   ]
  },
  {
   "cell_type": "markdown",
   "metadata": {},
   "source": [
    "# Bookmarks"
   ]
  },
  {
   "cell_type": "markdown",
   "metadata": {},
   "source": [
    "1. Find all of my own bookmarks"
   ]
  },
  {
   "cell_type": "code",
   "execution_count": null,
   "metadata": {},
   "outputs": [],
   "source": [
    "self_bookmarks = get_bookmarks(self_id)\n",
    "len(self_bookmarks)"
   ]
  },
  {
   "cell_type": "code",
   "execution_count": null,
   "metadata": {},
   "outputs": [],
   "source": [
    "%store self_bookmarks"
   ]
  },
  {
   "cell_type": "markdown",
   "metadata": {},
   "source": [
    " '2. Get all bookmarks for friends"
   ]
  },
  {
   "cell_type": "code",
   "execution_count": null,
   "metadata": {},
   "outputs": [],
   "source": [
    "# create dictionary of users and their bookmarks\n",
    "\n",
    "all_bookmarks = {i:[] for i in source_friends}\n",
    "\n",
    "for i in source_friends:\n",
    "    all_bookmarks[i] = get_bookmarks(i)"
   ]
  },
  {
   "cell_type": "code",
   "execution_count": null,
   "metadata": {},
   "outputs": [],
   "source": [
    "%store all_bookmarks"
   ]
  },
  {
   "cell_type": "markdown",
   "metadata": {},
   "source": [
    "'3. Create utility matrix"
   ]
  },
  {
   "cell_type": "code",
   "execution_count": null,
   "metadata": {},
   "outputs": [],
   "source": [
    "# create list of all unique places from all users\n",
    "\n",
    "bm_vocab = [item for sl in list(all_bookmarks.values()) for item in sl]\n",
    "bm_set = list(set(bm_vocab))"
   ]
  },
  {
   "cell_type": "code",
   "execution_count": null,
   "metadata": {},
   "outputs": [],
   "source": [
    "all_usr_vector = []\n",
    "\n",
    "for k,v in all_bookmarks.items():\n",
    "    usr_vector = []\n",
    "    for bm in bm_set:\n",
    "        if bm in v:\n",
    "            usr_vector.extend([1])\n",
    "        else:\n",
    "            usr_vector.extend([0])\n",
    "    all_usr_vector.append(usr_vector)"
   ]
  },
  {
   "cell_type": "code",
   "execution_count": null,
   "metadata": {},
   "outputs": [],
   "source": [
    "# create dataframe\n",
    "bm_df = pd.DataFrame(all_usr_vector, columns=bm_set, index=all_bookmarks.keys())\n",
    "bm_df.head()"
   ]
  },
  {
   "cell_type": "code",
   "execution_count": null,
   "metadata": {},
   "outputs": [],
   "source": [
    "# add my own bookmarks to dataframe\n",
    "\n",
    "my_bm_comp = []\n",
    "for i in bm_df.columns:\n",
    "    if i in self_bookmarks:\n",
    "        my_bm_comp.append(1)\n",
    "    else:\n",
    "        my_bm_comp.append(0)\n",
    "        \n",
    "mbm = pd.Series(my_bm_comp).to_frame(self_id).T\n",
    "mbm.columns = bm_df.columns\n",
    "\n",
    "bookmark_df = pd.concat([bm_df, mbm])\n",
    "bookmark_df"
   ]
  },
  {
   "cell_type": "markdown",
   "metadata": {},
   "source": [
    "'4. Calculate similarity"
   ]
  },
  {
   "cell_type": "code",
   "execution_count": null,
   "metadata": {},
   "outputs": [],
   "source": [
    "l1 = bookmark_df.iloc[-1,:][bookmark_df.iloc[-1,:]==1].index.values\n",
    "l2 = self_bookmarks\n",
    "\n",
    "a = set(l1)\n",
    "b = set(l2)\n",
    "b.difference(a)"
   ]
  },
  {
   "cell_type": "code",
   "execution_count": null,
   "metadata": {},
   "outputs": [],
   "source": [
    "sim_score = {}\n",
    "for i in range(len(bookmark_df)):\n",
    "    ss = pearsonr(bookmark_df.iloc[-1,:], bookmark_df.iloc[i,:])\n",
    "    sim_score.update({i: ss[0]})\n",
    "    \n",
    "sf = pd.Series(sim_score).to_frame('similarity')\n",
    "sf.sort_values('similarity', ascending=False)"
   ]
  },
  {
   "cell_type": "markdown",
   "metadata": {},
   "source": [
    "'5. Look at top 4 simliar users"
   ]
  },
  {
   "cell_type": "code",
   "execution_count": null,
   "metadata": {},
   "outputs": [],
   "source": [
    "all_recs = bookmark_df.iloc[[25, 16, 11, 48],:][bookmark_df.iloc[[25, 16, 11, 48],:]==1].fillna(0).T\n",
    "\n",
    "temp = all_recs[all_recs[self_id]==0].copy()\n",
    "str_recs = temp.iloc[:,:-1].copy()\n",
    "\n",
    "# look at places where at least 2 ppl also bookmarked\n",
    "str_recs[str_recs.sum(axis=1)>1]"
   ]
  },
  {
   "cell_type": "markdown",
   "metadata": {},
   "source": [
    "# Reviews"
   ]
  },
  {
   "cell_type": "markdown",
   "metadata": {},
   "source": [
    "1. Get my own reviews"
   ]
  },
  {
   "cell_type": "code",
   "execution_count": null,
   "metadata": {},
   "outputs": [],
   "source": [
    "my_reviews = get_reviews(self_id)\n",
    "my_reviews"
   ]
  },
  {
   "cell_type": "code",
   "execution_count": null,
   "metadata": {},
   "outputs": [],
   "source": [
    "%store my_reviews"
   ]
  },
  {
   "cell_type": "markdown",
   "metadata": {},
   "source": [
    "'2. get friend's reviews"
   ]
  },
  {
   "cell_type": "code",
   "execution_count": null,
   "metadata": {},
   "outputs": [],
   "source": [
    "# create dictionary of users and their reviews\n",
    "all_reviews = {i:[] for i in source_friends}\n",
    "\n",
    "for i in source_friends:\n",
    "    all_reviews[i] = get_reviews(i)"
   ]
  },
  {
   "cell_type": "code",
   "execution_count": null,
   "metadata": {},
   "outputs": [],
   "source": [
    "%store all_reviews"
   ]
  },
  {
   "cell_type": "markdown",
   "metadata": {},
   "source": [
    "'3. create utility matrix"
   ]
  },
  {
   "cell_type": "code",
   "execution_count": null,
   "metadata": {},
   "outputs": [],
   "source": [
    "rev_vocab = [item for sl in list(all_reviews.values()) for item in sl.keys()]\n",
    "rev_set = list(set(rev_vocab))"
   ]
  },
  {
   "cell_type": "code",
   "execution_count": null,
   "metadata": {},
   "outputs": [],
   "source": []
  },
  {
   "cell_type": "code",
   "execution_count": null,
   "metadata": {},
   "outputs": [],
   "source": []
  },
  {
   "cell_type": "code",
   "execution_count": null,
   "metadata": {},
   "outputs": [],
   "source": []
  },
  {
   "cell_type": "code",
   "execution_count": null,
   "metadata": {},
   "outputs": [],
   "source": []
  }
 ],
 "metadata": {
  "kernelspec": {
   "display_name": "Python 3",
   "language": "python",
   "name": "python3"
  },
  "language_info": {
   "codemirror_mode": {
    "name": "ipython",
    "version": 3
   },
   "file_extension": ".py",
   "mimetype": "text/x-python",
   "name": "python",
   "nbconvert_exporter": "python",
   "pygments_lexer": "ipython3",
   "version": "3.6.3"
  }
 },
 "nbformat": 4,
 "nbformat_minor": 2
}
